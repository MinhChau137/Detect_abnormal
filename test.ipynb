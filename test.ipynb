{
 "cells": [
  {
   "cell_type": "code",
   "execution_count": 26,
   "metadata": {},
   "outputs": [],
   "source": [
    "# # Install PyCaret\n",
    "# !pip install --pre pycaret\n",
    "#Import of data exploratio\n",
    "import pandas as pd\n",
    "from pycaret.anomaly import *\n",
    "import time\n",
    "import numpy as np"
   ]
  },
  {
   "cell_type": "code",
   "execution_count": 35,
   "metadata": {},
   "outputs": [
    {
     "name": "stdout",
     "output_type": "stream",
     "text": [
      "                   timestamp   sensor_00   sensor_01    sensor_02   sensor_03   sensor_04   sensor_05  sensor_06  sensor_07  sensor_08  sensor_09   sensor_10   sensor_11   sensor_12   sensor_13   sensor_14   sensor_16   sensor_17   sensor_18   sensor_19   sensor_20   sensor_21   sensor_22   sensor_23   sensor_24   sensor_25  sensor_26   sensor_27   sensor_28   sensor_29   sensor_30   sensor_31   sensor_32   sensor_33   sensor_34   sensor_35   sensor_36   sensor_37   sensor_38   sensor_39   sensor_40    sensor_41    sensor_42   sensor_43    sensor_44   sensor_45   sensor_46    sensor_47   sensor_48   sensor_49   sensor_51  Operation  day day_name  day_of_year  week_of_year  hour  is_weekday\n",
      "0  2018-04-01 00:00:00+00:00  147.270375  2913.36793  3188.541524  2773.52422  38047.2245  4544.18636  801.83005  969.72643  942.15136  905.19392  2506.58794  3083.61966  2183.91753  109.112824  25204.5866  27768.0869  27798.8727  152.714355  39929.3542  23953.0088  52758.3781  29969.3994  58721.1368  37645.4635  44422.9179  50944.016  26970.0966  46887.7305  42064.5124  39194.9066  45045.8314  41991.9731  27413.0391  10057.9547  19842.1512  11937.7456  5383.13924  2704.94773  1973.17693  4261.45816  1901.822817  1926.562367  2420.31229  2326.388814  3003.18286  2827.54632  2358.796255  11847.5114  4690.10433  12601.8518          0    1   Sunday           91            13     0           7\n"
     ]
    }
   ],
   "source": [
    "data= pd.read_csv('./data/test_2.csv')\n",
    "\n",
    "\n",
    "\n",
    "\n"
   ]
  },
  {
   "cell_type": "code",
   "execution_count": 28,
   "metadata": {},
   "outputs": [
    {
     "name": "stdout",
     "output_type": "stream",
     "text": [
      "Transformation Pipeline and Model Successfully Loaded\n"
     ]
    }
   ],
   "source": [
    "loaded_model=load_model('knn')"
   ]
  },
  {
   "cell_type": "code",
   "execution_count": 29,
   "metadata": {},
   "outputs": [],
   "source": [
    "# named_tuple = time.localtime() # get struct_time\n",
    "# time_string = time.strftime('%Y-%m-%d %H:%M:%S', named_tuple)\n",
    "# print(pd.to_datetime(time_string, format='%Y-%m-%d %H:%M:%S' ,utc='True'))"
   ]
  },
  {
   "cell_type": "code",
   "execution_count": 30,
   "metadata": {},
   "outputs": [],
   "source": [
    "# while True:\n",
    "#     data_add = pd.read_csv('test_2.csv').tail(1) #data cần đánh giá (Tạm thời là dòng cuối file test_2) -> append vào file data, write vào file xử lý\n",
    "#     data_add.to_csv('data_add.csv') #write vào file xử lý\n",
    "#     data = pd.read_csv('data_add.csv') #đọc data ra\n",
    "#     predict = predict_model(loaded_model, data=data)\n",
    "#     print(predict.iloc[:,-2])\n",
    "#     time.sleep(1)\n",
    "    \n",
    "    "
   ]
  },
  {
   "cell_type": "code",
   "execution_count": 31,
   "metadata": {},
   "outputs": [
    {
     "ename": "ValueError",
     "evalue": "could not convert string to float: 'Sunday'",
     "output_type": "error",
     "traceback": [
      "\u001b[1;31m---------------------------------------------------------------------------\u001b[0m",
      "\u001b[1;31mValueError\u001b[0m                                Traceback (most recent call last)",
      "Cell \u001b[1;32mIn[31], line 4\u001b[0m\n\u001b[0;32m      2\u001b[0m data_add\u001b[39m.\u001b[39mto_csv(\u001b[39m'\u001b[39m\u001b[39m./data/data_add.csv\u001b[39m\u001b[39m'\u001b[39m) \u001b[39m#write vào file xử lý\u001b[39;00m\n\u001b[0;32m      3\u001b[0m data \u001b[39m=\u001b[39m pd\u001b[39m.\u001b[39mread_csv(\u001b[39m'\u001b[39m\u001b[39m./data/data_add.csv\u001b[39m\u001b[39m'\u001b[39m) \u001b[39m#đọc data ra\u001b[39;00m\n\u001b[1;32m----> 4\u001b[0m predict \u001b[39m=\u001b[39m predict_model(loaded_model, data\u001b[39m=\u001b[39;49mdf)\n\u001b[0;32m      5\u001b[0m \u001b[39mprint\u001b[39m(predict\u001b[39m.\u001b[39miloc[:,\u001b[39m-\u001b[39m\u001b[39m2\u001b[39m])\n",
      "File \u001b[1;32mc:\\Users\\Minh Chau\\AppData\\Local\\Programs\\Python\\Python310\\lib\\site-packages\\pycaret\\anomaly\\functional.py:804\u001b[0m, in \u001b[0;36mpredict_model\u001b[1;34m(model, data)\u001b[0m\n\u001b[0;32m    801\u001b[0m \u001b[39mif\u001b[39;00m experiment \u001b[39mis\u001b[39;00m \u001b[39mNone\u001b[39;00m:\n\u001b[0;32m    802\u001b[0m     experiment \u001b[39m=\u001b[39m _EXPERIMENT_CLASS()\n\u001b[1;32m--> 804\u001b[0m \u001b[39mreturn\u001b[39;00m experiment\u001b[39m.\u001b[39;49mpredict_model(estimator\u001b[39m=\u001b[39;49mmodel, data\u001b[39m=\u001b[39;49mdata)\n",
      "File \u001b[1;32mc:\\Users\\Minh Chau\\AppData\\Local\\Programs\\Python\\Python310\\lib\\site-packages\\pycaret\\anomaly\\oop.py:87\u001b[0m, in \u001b[0;36mAnomalyExperiment.predict_model\u001b[1;34m(self, estimator, data, ml_usecase)\u001b[0m\n\u001b[0;32m     48\u001b[0m \u001b[39mdef\u001b[39;00m \u001b[39mpredict_model\u001b[39m(\n\u001b[0;32m     49\u001b[0m     \u001b[39mself\u001b[39m, estimator, data: pd\u001b[39m.\u001b[39mDataFrame, ml_usecase: Optional[MLUsecase] \u001b[39m=\u001b[39m \u001b[39mNone\u001b[39;00m\n\u001b[0;32m     50\u001b[0m ) \u001b[39m-\u001b[39m\u001b[39m>\u001b[39m pd\u001b[39m.\u001b[39mDataFrame:\n\u001b[0;32m     51\u001b[0m \u001b[39m    \u001b[39m\u001b[39m\"\"\"\u001b[39;00m\n\u001b[0;32m     52\u001b[0m \u001b[39m    This function generates anomaly labels on using a trained model.\u001b[39;00m\n\u001b[0;32m     53\u001b[0m \n\u001b[1;32m   (...)\u001b[0m\n\u001b[0;32m     85\u001b[0m \n\u001b[0;32m     86\u001b[0m \u001b[39m    \"\"\"\u001b[39;00m\n\u001b[1;32m---> 87\u001b[0m     \u001b[39mreturn\u001b[39;00m \u001b[39msuper\u001b[39;49m()\u001b[39m.\u001b[39;49mpredict_model(estimator, data, ml_usecase)\n",
      "File \u001b[1;32mc:\\Users\\Minh Chau\\AppData\\Local\\Programs\\Python\\Python310\\lib\\site-packages\\pycaret\\internal\\pycaret_experiment\\unsupervised_experiment.py:893\u001b[0m, in \u001b[0;36m_UnsupervisedExperiment.predict_model\u001b[1;34m(self, estimator, data, ml_usecase)\u001b[0m\n\u001b[0;32m    890\u001b[0m     \u001b[39mraise\u001b[39;00m \u001b[39mTypeError\u001b[39;00m(\u001b[39m\"\u001b[39m\u001b[39mModel doesn\u001b[39m\u001b[39m'\u001b[39m\u001b[39mt have the predict method.\u001b[39m\u001b[39m\"\u001b[39m)\n\u001b[0;32m    892\u001b[0m output \u001b[39m=\u001b[39m data\u001b[39m.\u001b[39mcopy()\n\u001b[1;32m--> 893\u001b[0m pred \u001b[39m=\u001b[39m estimator\u001b[39m.\u001b[39;49mpredict(data)\n\u001b[0;32m    894\u001b[0m \u001b[39mif\u001b[39;00m ml_usecase \u001b[39m==\u001b[39m MLUsecase\u001b[39m.\u001b[39mCLUSTERING:\n\u001b[0;32m    895\u001b[0m     output[\u001b[39m\"\u001b[39m\u001b[39mCluster\u001b[39m\u001b[39m\"\u001b[39m] \u001b[39m=\u001b[39m [\u001b[39mf\u001b[39m\u001b[39m\"\u001b[39m\u001b[39mCluster \u001b[39m\u001b[39m{\u001b[39;00mi\u001b[39m}\u001b[39;00m\u001b[39m\"\u001b[39m \u001b[39mfor\u001b[39;00m i \u001b[39min\u001b[39;00m pred]\n",
      "File \u001b[1;32mc:\\Users\\Minh Chau\\AppData\\Local\\Programs\\Python\\Python310\\lib\\site-packages\\pycaret\\internal\\pipeline.py:310\u001b[0m, in \u001b[0;36mPipeline.predict\u001b[1;34m(self, X, **predict_params)\u001b[0m\n\u001b[0;32m    308\u001b[0m \u001b[39m@available_if\u001b[39m(_final_estimator_has(\u001b[39m\"\u001b[39m\u001b[39mpredict\u001b[39m\u001b[39m\"\u001b[39m))\n\u001b[0;32m    309\u001b[0m \u001b[39mdef\u001b[39;00m \u001b[39mpredict\u001b[39m(\u001b[39mself\u001b[39m, X, \u001b[39m*\u001b[39m\u001b[39m*\u001b[39mpredict_params):\n\u001b[1;32m--> 310\u001b[0m     X, _ \u001b[39m=\u001b[39m \u001b[39mself\u001b[39;49m\u001b[39m.\u001b[39;49m_memory_full_transform(\u001b[39mself\u001b[39;49m, X, \u001b[39mNone\u001b[39;49;00m, with_final\u001b[39m=\u001b[39;49m\u001b[39mFalse\u001b[39;49;00m)\n\u001b[0;32m    312\u001b[0m     y \u001b[39m=\u001b[39m \u001b[39mself\u001b[39m\u001b[39m.\u001b[39msteps[\u001b[39m-\u001b[39m\u001b[39m1\u001b[39m][\u001b[39m-\u001b[39m\u001b[39m1\u001b[39m]\u001b[39m.\u001b[39mpredict(X, \u001b[39m*\u001b[39m\u001b[39m*\u001b[39mpredict_params)\n\u001b[0;32m    313\u001b[0m     y \u001b[39m=\u001b[39m \u001b[39mself\u001b[39m\u001b[39m.\u001b[39minverse_transform(y)\n",
      "File \u001b[1;32mc:\\Users\\Minh Chau\\AppData\\Local\\Programs\\Python\\Python310\\lib\\site-packages\\joblib\\memory.py:594\u001b[0m, in \u001b[0;36mMemorizedFunc.__call__\u001b[1;34m(self, *args, **kwargs)\u001b[0m\n\u001b[0;32m    593\u001b[0m \u001b[39mdef\u001b[39;00m \u001b[39m__call__\u001b[39m(\u001b[39mself\u001b[39m, \u001b[39m*\u001b[39margs, \u001b[39m*\u001b[39m\u001b[39m*\u001b[39mkwargs):\n\u001b[1;32m--> 594\u001b[0m     \u001b[39mreturn\u001b[39;00m \u001b[39mself\u001b[39;49m\u001b[39m.\u001b[39;49m_cached_call(args, kwargs)[\u001b[39m0\u001b[39m]\n",
      "File \u001b[1;32mc:\\Users\\Minh Chau\\AppData\\Local\\Programs\\Python\\Python310\\lib\\site-packages\\pycaret\\internal\\memory.py:398\u001b[0m, in \u001b[0;36mFastMemorizedFunc._cached_call\u001b[1;34m(self, args, kwargs, shelving)\u001b[0m\n\u001b[0;32m    395\u001b[0m \u001b[39mif\u001b[39;00m must_call:\n\u001b[0;32m    396\u001b[0m     \u001b[39m# PYCARET CHANGES\u001b[39;00m\n\u001b[0;32m    397\u001b[0m     \u001b[39mself\u001b[39m\u001b[39m.\u001b[39m_cached_output_identifiers \u001b[39m=\u001b[39m func_id, args_id\n\u001b[1;32m--> 398\u001b[0m     out, metadata \u001b[39m=\u001b[39m \u001b[39mself\u001b[39m\u001b[39m.\u001b[39mcall(\u001b[39m*\u001b[39margs, \u001b[39m*\u001b[39m\u001b[39m*\u001b[39mkwargs)\n\u001b[0;32m    399\u001b[0m     \u001b[39mif\u001b[39;00m \u001b[39mself\u001b[39m\u001b[39m.\u001b[39mmmap_mode \u001b[39mis\u001b[39;00m \u001b[39mnot\u001b[39;00m \u001b[39mNone\u001b[39;00m \u001b[39mand\u001b[39;00m metadata \u001b[39mis\u001b[39;00m \u001b[39mnot\u001b[39;00m \u001b[39mNone\u001b[39;00m:\n\u001b[0;32m    400\u001b[0m         \u001b[39m# PYCARET CHANGES END\u001b[39;00m\n\u001b[0;32m    401\u001b[0m         \u001b[39m# Memmap the output at the first call to be consistent with\u001b[39;00m\n\u001b[0;32m    402\u001b[0m         \u001b[39m# later calls\u001b[39;00m\n\u001b[0;32m    403\u001b[0m         \u001b[39mif\u001b[39;00m \u001b[39mself\u001b[39m\u001b[39m.\u001b[39m_verbose:\n",
      "File \u001b[1;32mc:\\Users\\Minh Chau\\AppData\\Local\\Programs\\Python\\Python310\\lib\\site-packages\\pycaret\\internal\\memory.py:309\u001b[0m, in \u001b[0;36mFastMemorizedFunc.call\u001b[1;34m(self, *args, **kwargs)\u001b[0m\n\u001b[0;32m    307\u001b[0m \u001b[39m# PYCARET CHANGES\u001b[39;00m\n\u001b[0;32m    308\u001b[0m func_start_time \u001b[39m=\u001b[39m time\u001b[39m.\u001b[39mmonotonic()\n\u001b[1;32m--> 309\u001b[0m output \u001b[39m=\u001b[39m \u001b[39mself\u001b[39m\u001b[39m.\u001b[39mfunc(\u001b[39m*\u001b[39margs, \u001b[39m*\u001b[39m\u001b[39m*\u001b[39mkwargs)\n\u001b[0;32m    310\u001b[0m func_duration \u001b[39m=\u001b[39m time\u001b[39m.\u001b[39mmonotonic() \u001b[39m-\u001b[39m func_start_time\n\u001b[0;32m    311\u001b[0m \u001b[39mif\u001b[39;00m func_duration \u001b[39m>\u001b[39m\u001b[39m=\u001b[39m \u001b[39mself\u001b[39m\u001b[39m.\u001b[39mmin_time_to_cache:\n",
      "File \u001b[1;32mc:\\Users\\Minh Chau\\AppData\\Local\\Programs\\Python\\Python310\\lib\\site-packages\\pycaret\\internal\\pipeline.py:108\u001b[0m, in \u001b[0;36m_full_transform\u001b[1;34m(pipeline, X, y, **kwargs)\u001b[0m\n\u001b[0;32m    106\u001b[0m \u001b[39mdef\u001b[39;00m \u001b[39m_full_transform\u001b[39m(pipeline: \u001b[39m\"\u001b[39m\u001b[39mPipeline\u001b[39m\u001b[39m\"\u001b[39m, X, y, \u001b[39m*\u001b[39m\u001b[39m*\u001b[39mkwargs):\n\u001b[0;32m    107\u001b[0m     \u001b[39mfor\u001b[39;00m _, _, transformer \u001b[39min\u001b[39;00m pipeline\u001b[39m.\u001b[39m_iter(\u001b[39m*\u001b[39m\u001b[39m*\u001b[39mkwargs):\n\u001b[1;32m--> 108\u001b[0m         X, y \u001b[39m=\u001b[39m pipeline\u001b[39m.\u001b[39;49m_memory_transform(transformer, X, y)\n\u001b[0;32m    109\u001b[0m     \u001b[39mreturn\u001b[39;00m X, y\n",
      "File \u001b[1;32mc:\\Users\\Minh Chau\\AppData\\Local\\Programs\\Python\\Python310\\lib\\site-packages\\joblib\\memory.py:594\u001b[0m, in \u001b[0;36mMemorizedFunc.__call__\u001b[1;34m(self, *args, **kwargs)\u001b[0m\n\u001b[0;32m    593\u001b[0m \u001b[39mdef\u001b[39;00m \u001b[39m__call__\u001b[39m(\u001b[39mself\u001b[39m, \u001b[39m*\u001b[39margs, \u001b[39m*\u001b[39m\u001b[39m*\u001b[39mkwargs):\n\u001b[1;32m--> 594\u001b[0m     \u001b[39mreturn\u001b[39;00m \u001b[39mself\u001b[39;49m\u001b[39m.\u001b[39;49m_cached_call(args, kwargs)[\u001b[39m0\u001b[39m]\n",
      "File \u001b[1;32mc:\\Users\\Minh Chau\\AppData\\Local\\Programs\\Python\\Python310\\lib\\site-packages\\pycaret\\internal\\memory.py:398\u001b[0m, in \u001b[0;36mFastMemorizedFunc._cached_call\u001b[1;34m(self, args, kwargs, shelving)\u001b[0m\n\u001b[0;32m    395\u001b[0m \u001b[39mif\u001b[39;00m must_call:\n\u001b[0;32m    396\u001b[0m     \u001b[39m# PYCARET CHANGES\u001b[39;00m\n\u001b[0;32m    397\u001b[0m     \u001b[39mself\u001b[39m\u001b[39m.\u001b[39m_cached_output_identifiers \u001b[39m=\u001b[39m func_id, args_id\n\u001b[1;32m--> 398\u001b[0m     out, metadata \u001b[39m=\u001b[39m \u001b[39mself\u001b[39m\u001b[39m.\u001b[39mcall(\u001b[39m*\u001b[39margs, \u001b[39m*\u001b[39m\u001b[39m*\u001b[39mkwargs)\n\u001b[0;32m    399\u001b[0m     \u001b[39mif\u001b[39;00m \u001b[39mself\u001b[39m\u001b[39m.\u001b[39mmmap_mode \u001b[39mis\u001b[39;00m \u001b[39mnot\u001b[39;00m \u001b[39mNone\u001b[39;00m \u001b[39mand\u001b[39;00m metadata \u001b[39mis\u001b[39;00m \u001b[39mnot\u001b[39;00m \u001b[39mNone\u001b[39;00m:\n\u001b[0;32m    400\u001b[0m         \u001b[39m# PYCARET CHANGES END\u001b[39;00m\n\u001b[0;32m    401\u001b[0m         \u001b[39m# Memmap the output at the first call to be consistent with\u001b[39;00m\n\u001b[0;32m    402\u001b[0m         \u001b[39m# later calls\u001b[39;00m\n\u001b[0;32m    403\u001b[0m         \u001b[39mif\u001b[39;00m \u001b[39mself\u001b[39m\u001b[39m.\u001b[39m_verbose:\n",
      "File \u001b[1;32mc:\\Users\\Minh Chau\\AppData\\Local\\Programs\\Python\\Python310\\lib\\site-packages\\pycaret\\internal\\memory.py:309\u001b[0m, in \u001b[0;36mFastMemorizedFunc.call\u001b[1;34m(self, *args, **kwargs)\u001b[0m\n\u001b[0;32m    307\u001b[0m \u001b[39m# PYCARET CHANGES\u001b[39;00m\n\u001b[0;32m    308\u001b[0m func_start_time \u001b[39m=\u001b[39m time\u001b[39m.\u001b[39mmonotonic()\n\u001b[1;32m--> 309\u001b[0m output \u001b[39m=\u001b[39m \u001b[39mself\u001b[39m\u001b[39m.\u001b[39mfunc(\u001b[39m*\u001b[39margs, \u001b[39m*\u001b[39m\u001b[39m*\u001b[39mkwargs)\n\u001b[0;32m    310\u001b[0m func_duration \u001b[39m=\u001b[39m time\u001b[39m.\u001b[39mmonotonic() \u001b[39m-\u001b[39m func_start_time\n\u001b[0;32m    311\u001b[0m \u001b[39mif\u001b[39;00m func_duration \u001b[39m>\u001b[39m\u001b[39m=\u001b[39m \u001b[39mself\u001b[39m\u001b[39m.\u001b[39mmin_time_to_cache:\n",
      "File \u001b[1;32mc:\\Users\\Minh Chau\\AppData\\Local\\Programs\\Python\\Python310\\lib\\site-packages\\pycaret\\internal\\pipeline.py:77\u001b[0m, in \u001b[0;36m_transform_one\u001b[1;34m(transformer, X, y)\u001b[0m\n\u001b[0;32m     75\u001b[0m \u001b[39mif\u001b[39;00m \u001b[39m\"\u001b[39m\u001b[39my\u001b[39m\u001b[39m\"\u001b[39m \u001b[39min\u001b[39;00m signature(transformer\u001b[39m.\u001b[39mtransform)\u001b[39m.\u001b[39mparameters:\n\u001b[0;32m     76\u001b[0m     args\u001b[39m.\u001b[39mappend(y)\n\u001b[1;32m---> 77\u001b[0m output \u001b[39m=\u001b[39m transformer\u001b[39m.\u001b[39;49mtransform(\u001b[39m*\u001b[39;49margs)\n\u001b[0;32m     79\u001b[0m \u001b[39mif\u001b[39;00m \u001b[39misinstance\u001b[39m(output, \u001b[39mtuple\u001b[39m):\n\u001b[0;32m     80\u001b[0m     X, y \u001b[39m=\u001b[39m output[\u001b[39m0\u001b[39m], output[\u001b[39m1\u001b[39m]\n",
      "File \u001b[1;32mc:\\Users\\Minh Chau\\AppData\\Local\\Programs\\Python\\Python310\\lib\\site-packages\\sklearn\\utils\\_set_output.py:140\u001b[0m, in \u001b[0;36m_wrap_method_output.<locals>.wrapped\u001b[1;34m(self, X, *args, **kwargs)\u001b[0m\n\u001b[0;32m    138\u001b[0m \u001b[39m@wraps\u001b[39m(f)\n\u001b[0;32m    139\u001b[0m \u001b[39mdef\u001b[39;00m \u001b[39mwrapped\u001b[39m(\u001b[39mself\u001b[39m, X, \u001b[39m*\u001b[39margs, \u001b[39m*\u001b[39m\u001b[39m*\u001b[39mkwargs):\n\u001b[1;32m--> 140\u001b[0m     data_to_wrap \u001b[39m=\u001b[39m f(\u001b[39mself\u001b[39m, X, \u001b[39m*\u001b[39margs, \u001b[39m*\u001b[39m\u001b[39m*\u001b[39mkwargs)\n\u001b[0;32m    141\u001b[0m     \u001b[39mif\u001b[39;00m \u001b[39misinstance\u001b[39m(data_to_wrap, \u001b[39mtuple\u001b[39m):\n\u001b[0;32m    142\u001b[0m         \u001b[39m# only wrap the first output for cross decomposition\u001b[39;00m\n\u001b[0;32m    143\u001b[0m         \u001b[39mreturn\u001b[39;00m (\n\u001b[0;32m    144\u001b[0m             _wrap_data_with_container(method, data_to_wrap[\u001b[39m0\u001b[39m], X, \u001b[39mself\u001b[39m),\n\u001b[0;32m    145\u001b[0m             \u001b[39m*\u001b[39mdata_to_wrap[\u001b[39m1\u001b[39m:],\n\u001b[0;32m    146\u001b[0m         )\n",
      "File \u001b[1;32mc:\\Users\\Minh Chau\\AppData\\Local\\Programs\\Python\\Python310\\lib\\site-packages\\pycaret\\internal\\preprocess\\transformers.py:245\u001b[0m, in \u001b[0;36mTransformerWrapper.transform\u001b[1;34m(self, X, y)\u001b[0m\n\u001b[0;32m    242\u001b[0m     \u001b[39melif\u001b[39;00m \u001b[39m\"\u001b[39m\u001b[39mX\u001b[39m\u001b[39m\"\u001b[39m \u001b[39mnot\u001b[39;00m \u001b[39min\u001b[39;00m transform_params:\n\u001b[0;32m    243\u001b[0m         \u001b[39mreturn\u001b[39;00m X, y\n\u001b[1;32m--> 245\u001b[0m output \u001b[39m=\u001b[39m \u001b[39mself\u001b[39;49m\u001b[39m.\u001b[39;49mtransformer\u001b[39m.\u001b[39;49mtransform(\u001b[39m*\u001b[39;49margs)\n\u001b[0;32m    247\u001b[0m \u001b[39m# Transform can return X, y or both\u001b[39;00m\n\u001b[0;32m    248\u001b[0m \u001b[39mif\u001b[39;00m \u001b[39misinstance\u001b[39m(output, \u001b[39mtuple\u001b[39m):\n",
      "File \u001b[1;32mc:\\Users\\Minh Chau\\AppData\\Local\\Programs\\Python\\Python310\\lib\\site-packages\\sklearn\\utils\\_set_output.py:140\u001b[0m, in \u001b[0;36m_wrap_method_output.<locals>.wrapped\u001b[1;34m(self, X, *args, **kwargs)\u001b[0m\n\u001b[0;32m    138\u001b[0m \u001b[39m@wraps\u001b[39m(f)\n\u001b[0;32m    139\u001b[0m \u001b[39mdef\u001b[39;00m \u001b[39mwrapped\u001b[39m(\u001b[39mself\u001b[39m, X, \u001b[39m*\u001b[39margs, \u001b[39m*\u001b[39m\u001b[39m*\u001b[39mkwargs):\n\u001b[1;32m--> 140\u001b[0m     data_to_wrap \u001b[39m=\u001b[39m f(\u001b[39mself\u001b[39m, X, \u001b[39m*\u001b[39margs, \u001b[39m*\u001b[39m\u001b[39m*\u001b[39mkwargs)\n\u001b[0;32m    141\u001b[0m     \u001b[39mif\u001b[39;00m \u001b[39misinstance\u001b[39m(data_to_wrap, \u001b[39mtuple\u001b[39m):\n\u001b[0;32m    142\u001b[0m         \u001b[39m# only wrap the first output for cross decomposition\u001b[39;00m\n\u001b[0;32m    143\u001b[0m         \u001b[39mreturn\u001b[39;00m (\n\u001b[0;32m    144\u001b[0m             _wrap_data_with_container(method, data_to_wrap[\u001b[39m0\u001b[39m], X, \u001b[39mself\u001b[39m),\n\u001b[0;32m    145\u001b[0m             \u001b[39m*\u001b[39mdata_to_wrap[\u001b[39m1\u001b[39m:],\n\u001b[0;32m    146\u001b[0m         )\n",
      "File \u001b[1;32mc:\\Users\\Minh Chau\\AppData\\Local\\Programs\\Python\\Python310\\lib\\site-packages\\sklearn\\preprocessing\\_data.py:508\u001b[0m, in \u001b[0;36mMinMaxScaler.transform\u001b[1;34m(self, X)\u001b[0m\n\u001b[0;32m    494\u001b[0m \u001b[39m\u001b[39m\u001b[39m\"\"\"Scale features of X according to feature_range.\u001b[39;00m\n\u001b[0;32m    495\u001b[0m \n\u001b[0;32m    496\u001b[0m \u001b[39mParameters\u001b[39;00m\n\u001b[1;32m   (...)\u001b[0m\n\u001b[0;32m    504\u001b[0m \u001b[39m    Transformed data.\u001b[39;00m\n\u001b[0;32m    505\u001b[0m \u001b[39m\"\"\"\u001b[39;00m\n\u001b[0;32m    506\u001b[0m check_is_fitted(\u001b[39mself\u001b[39m)\n\u001b[1;32m--> 508\u001b[0m X \u001b[39m=\u001b[39m \u001b[39mself\u001b[39;49m\u001b[39m.\u001b[39;49m_validate_data(\n\u001b[0;32m    509\u001b[0m     X,\n\u001b[0;32m    510\u001b[0m     copy\u001b[39m=\u001b[39;49m\u001b[39mself\u001b[39;49m\u001b[39m.\u001b[39;49mcopy,\n\u001b[0;32m    511\u001b[0m     dtype\u001b[39m=\u001b[39;49mFLOAT_DTYPES,\n\u001b[0;32m    512\u001b[0m     force_all_finite\u001b[39m=\u001b[39;49m\u001b[39m\"\u001b[39;49m\u001b[39mallow-nan\u001b[39;49m\u001b[39m\"\u001b[39;49m,\n\u001b[0;32m    513\u001b[0m     reset\u001b[39m=\u001b[39;49m\u001b[39mFalse\u001b[39;49;00m,\n\u001b[0;32m    514\u001b[0m )\n\u001b[0;32m    516\u001b[0m X \u001b[39m*\u001b[39m\u001b[39m=\u001b[39m \u001b[39mself\u001b[39m\u001b[39m.\u001b[39mscale_\n\u001b[0;32m    517\u001b[0m X \u001b[39m+\u001b[39m\u001b[39m=\u001b[39m \u001b[39mself\u001b[39m\u001b[39m.\u001b[39mmin_\n",
      "File \u001b[1;32mc:\\Users\\Minh Chau\\AppData\\Local\\Programs\\Python\\Python310\\lib\\site-packages\\sklearn\\base.py:565\u001b[0m, in \u001b[0;36mBaseEstimator._validate_data\u001b[1;34m(self, X, y, reset, validate_separately, **check_params)\u001b[0m\n\u001b[0;32m    563\u001b[0m     \u001b[39mraise\u001b[39;00m \u001b[39mValueError\u001b[39;00m(\u001b[39m\"\u001b[39m\u001b[39mValidation should be done on X, y or both.\u001b[39m\u001b[39m\"\u001b[39m)\n\u001b[0;32m    564\u001b[0m \u001b[39melif\u001b[39;00m \u001b[39mnot\u001b[39;00m no_val_X \u001b[39mand\u001b[39;00m no_val_y:\n\u001b[1;32m--> 565\u001b[0m     X \u001b[39m=\u001b[39m check_array(X, input_name\u001b[39m=\u001b[39m\u001b[39m\"\u001b[39m\u001b[39mX\u001b[39m\u001b[39m\"\u001b[39m, \u001b[39m*\u001b[39m\u001b[39m*\u001b[39mcheck_params)\n\u001b[0;32m    566\u001b[0m     out \u001b[39m=\u001b[39m X\n\u001b[0;32m    567\u001b[0m \u001b[39melif\u001b[39;00m no_val_X \u001b[39mand\u001b[39;00m \u001b[39mnot\u001b[39;00m no_val_y:\n",
      "File \u001b[1;32mc:\\Users\\Minh Chau\\AppData\\Local\\Programs\\Python\\Python310\\lib\\site-packages\\sklearn\\utils\\validation.py:879\u001b[0m, in \u001b[0;36mcheck_array\u001b[1;34m(array, accept_sparse, accept_large_sparse, dtype, order, copy, force_all_finite, ensure_2d, allow_nd, ensure_min_samples, ensure_min_features, estimator, input_name)\u001b[0m\n\u001b[0;32m    877\u001b[0m         array \u001b[39m=\u001b[39m xp\u001b[39m.\u001b[39mastype(array, dtype, copy\u001b[39m=\u001b[39m\u001b[39mFalse\u001b[39;00m)\n\u001b[0;32m    878\u001b[0m     \u001b[39melse\u001b[39;00m:\n\u001b[1;32m--> 879\u001b[0m         array \u001b[39m=\u001b[39m _asarray_with_order(array, order\u001b[39m=\u001b[39;49morder, dtype\u001b[39m=\u001b[39;49mdtype, xp\u001b[39m=\u001b[39;49mxp)\n\u001b[0;32m    880\u001b[0m \u001b[39mexcept\u001b[39;00m ComplexWarning \u001b[39mas\u001b[39;00m complex_warning:\n\u001b[0;32m    881\u001b[0m     \u001b[39mraise\u001b[39;00m \u001b[39mValueError\u001b[39;00m(\n\u001b[0;32m    882\u001b[0m         \u001b[39m\"\u001b[39m\u001b[39mComplex data not supported\u001b[39m\u001b[39m\\n\u001b[39;00m\u001b[39m{}\u001b[39;00m\u001b[39m\\n\u001b[39;00m\u001b[39m\"\u001b[39m\u001b[39m.\u001b[39mformat(array)\n\u001b[0;32m    883\u001b[0m     ) \u001b[39mfrom\u001b[39;00m \u001b[39mcomplex_warning\u001b[39;00m\n",
      "File \u001b[1;32mc:\\Users\\Minh Chau\\AppData\\Local\\Programs\\Python\\Python310\\lib\\site-packages\\sklearn\\utils\\_array_api.py:185\u001b[0m, in \u001b[0;36m_asarray_with_order\u001b[1;34m(array, dtype, order, copy, xp)\u001b[0m\n\u001b[0;32m    182\u001b[0m     xp, _ \u001b[39m=\u001b[39m get_namespace(array)\n\u001b[0;32m    183\u001b[0m \u001b[39mif\u001b[39;00m xp\u001b[39m.\u001b[39m\u001b[39m__name__\u001b[39m \u001b[39min\u001b[39;00m {\u001b[39m\"\u001b[39m\u001b[39mnumpy\u001b[39m\u001b[39m\"\u001b[39m, \u001b[39m\"\u001b[39m\u001b[39mnumpy.array_api\u001b[39m\u001b[39m\"\u001b[39m}:\n\u001b[0;32m    184\u001b[0m     \u001b[39m# Use NumPy API to support order\u001b[39;00m\n\u001b[1;32m--> 185\u001b[0m     array \u001b[39m=\u001b[39m numpy\u001b[39m.\u001b[39;49masarray(array, order\u001b[39m=\u001b[39;49morder, dtype\u001b[39m=\u001b[39;49mdtype)\n\u001b[0;32m    186\u001b[0m     \u001b[39mreturn\u001b[39;00m xp\u001b[39m.\u001b[39masarray(array, copy\u001b[39m=\u001b[39mcopy)\n\u001b[0;32m    187\u001b[0m \u001b[39melse\u001b[39;00m:\n",
      "File \u001b[1;32m~\\AppData\\Roaming\\Python\\Python310\\site-packages\\pandas\\core\\generic.py:2070\u001b[0m, in \u001b[0;36mNDFrame.__array__\u001b[1;34m(self, dtype)\u001b[0m\n\u001b[0;32m   2069\u001b[0m \u001b[39mdef\u001b[39;00m \u001b[39m__array__\u001b[39m(\u001b[39mself\u001b[39m, dtype: npt\u001b[39m.\u001b[39mDTypeLike \u001b[39m|\u001b[39m \u001b[39mNone\u001b[39;00m \u001b[39m=\u001b[39m \u001b[39mNone\u001b[39;00m) \u001b[39m-\u001b[39m\u001b[39m>\u001b[39m np\u001b[39m.\u001b[39mndarray:\n\u001b[1;32m-> 2070\u001b[0m     \u001b[39mreturn\u001b[39;00m np\u001b[39m.\u001b[39;49masarray(\u001b[39mself\u001b[39;49m\u001b[39m.\u001b[39;49m_values, dtype\u001b[39m=\u001b[39;49mdtype)\n",
      "\u001b[1;31mValueError\u001b[0m: could not convert string to float: 'Sunday'"
     ]
    }
   ],
   "source": [
    "data_add = pd.read_csv('./data/test_2.csv').tail(1) #data cần đánh giá (Tạm thời là dòng cuối file test_2) -> append vào file data, write vào file xử lý\n",
    "data_add.to_csv('./data/data_add.csv') #write vào file xử lý\n",
    "data = pd.read_csv('./data/data_add.csv') #đọc data ra\n",
    "predict = predict_model(loaded_model, data=data)\n",
    "print(predict.iloc[:,-2])"
   ]
  },
  {
   "cell_type": "code",
   "execution_count": null,
   "metadata": {},
   "outputs": [],
   "source": [
    "# while data.empty != True:\n",
    "#     data= pd.read_csv('data_add.csv')\n",
    "#     predict = predict_model(loaded_model, data=data.tail(1))\n",
    "#     # predict\n",
    "#     print(predict.iloc[:,-2])\n",
    "#     time.sleep(1)"
   ]
  }
 ],
 "metadata": {
  "kernelspec": {
   "display_name": "Python 3",
   "language": "python",
   "name": "python3"
  },
  "language_info": {
   "codemirror_mode": {
    "name": "ipython",
    "version": 3
   },
   "file_extension": ".py",
   "mimetype": "text/x-python",
   "name": "python",
   "nbconvert_exporter": "python",
   "pygments_lexer": "ipython3",
   "version": "3.10.11"
  },
  "orig_nbformat": 4
 },
 "nbformat": 4,
 "nbformat_minor": 2
}
