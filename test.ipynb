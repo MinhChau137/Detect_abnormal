{
 "cells": [
  {
   "cell_type": "code",
   "execution_count": 2,
   "metadata": {},
   "outputs": [],
   "source": [
    "# # Install PyCaret\n",
    "# !pip install --pre pycaret\n",
    "#Import of data exploratio\n",
    "import pandas as pd\n",
    "from pycaret.anomaly import *\n",
    "import time"
   ]
  },
  {
   "cell_type": "code",
   "execution_count": 3,
   "metadata": {},
   "outputs": [],
   "source": [
    "data= pd.read_csv('test_2.csv')"
   ]
  },
  {
   "cell_type": "code",
   "execution_count": 4,
   "metadata": {},
   "outputs": [
    {
     "name": "stdout",
     "output_type": "stream",
     "text": [
      "Transformation Pipeline and Model Successfully Loaded\n"
     ]
    }
   ],
   "source": [
    "loaded_model=load_model('knn')"
   ]
  },
  {
   "cell_type": "code",
   "execution_count": 5,
   "metadata": {},
   "outputs": [],
   "source": [
    "# named_tuple = time.localtime() # get struct_time\n",
    "# time_string = time.strftime('%Y-%m-%d %H:%M:%S', named_tuple)\n",
    "# print(pd.to_datetime(time_string, format='%Y-%m-%d %H:%M:%S' ,utc='True'))"
   ]
  },
  {
   "cell_type": "code",
   "execution_count": 6,
   "metadata": {},
   "outputs": [
    {
     "name": "stdout",
     "output_type": "stream",
     "text": [
      "0    1\n",
      "Name: Anomaly, dtype: int32\n",
      "0    1\n",
      "Name: Anomaly, dtype: int32\n",
      "0    1\n",
      "Name: Anomaly, dtype: int32\n",
      "0    1\n",
      "Name: Anomaly, dtype: int32\n",
      "0    1\n",
      "Name: Anomaly, dtype: int32\n",
      "0    1\n",
      "Name: Anomaly, dtype: int32\n",
      "0    1\n",
      "Name: Anomaly, dtype: int32\n",
      "0    1\n",
      "Name: Anomaly, dtype: int32\n",
      "0    1\n",
      "Name: Anomaly, dtype: int32\n",
      "0    1\n",
      "Name: Anomaly, dtype: int32\n",
      "0    1\n",
      "Name: Anomaly, dtype: int32\n",
      "0    1\n",
      "Name: Anomaly, dtype: int32\n",
      "0    1\n",
      "Name: Anomaly, dtype: int32\n",
      "0    1\n",
      "Name: Anomaly, dtype: int32\n",
      "0    1\n",
      "Name: Anomaly, dtype: int32\n",
      "0    1\n",
      "Name: Anomaly, dtype: int32\n",
      "0    1\n",
      "Name: Anomaly, dtype: int32\n",
      "0    1\n",
      "Name: Anomaly, dtype: int32\n",
      "0    1\n",
      "Name: Anomaly, dtype: int32\n",
      "0    1\n",
      "Name: Anomaly, dtype: int32\n",
      "0    1\n",
      "Name: Anomaly, dtype: int32\n",
      "0    1\n",
      "Name: Anomaly, dtype: int32\n",
      "0    1\n",
      "Name: Anomaly, dtype: int32\n",
      "0    1\n",
      "Name: Anomaly, dtype: int32\n",
      "0    1\n",
      "Name: Anomaly, dtype: int32\n",
      "0    1\n",
      "Name: Anomaly, dtype: int32\n",
      "0    1\n",
      "Name: Anomaly, dtype: int32\n",
      "0    1\n",
      "Name: Anomaly, dtype: int32\n",
      "0    1\n",
      "Name: Anomaly, dtype: int32\n",
      "0    1\n",
      "Name: Anomaly, dtype: int32\n",
      "0    1\n",
      "Name: Anomaly, dtype: int32\n",
      "0    1\n",
      "Name: Anomaly, dtype: int32\n",
      "0    1\n",
      "Name: Anomaly, dtype: int32\n",
      "0    1\n",
      "Name: Anomaly, dtype: int32\n",
      "0    1\n",
      "Name: Anomaly, dtype: int32\n",
      "0    1\n",
      "Name: Anomaly, dtype: int32\n",
      "0    1\n",
      "Name: Anomaly, dtype: int32\n",
      "0    1\n",
      "Name: Anomaly, dtype: int32\n",
      "0    1\n",
      "Name: Anomaly, dtype: int32\n",
      "0    1\n",
      "Name: Anomaly, dtype: int32\n",
      "0    1\n",
      "Name: Anomaly, dtype: int32\n",
      "0    1\n",
      "Name: Anomaly, dtype: int32\n",
      "0    1\n",
      "Name: Anomaly, dtype: int32\n",
      "0    1\n",
      "Name: Anomaly, dtype: int32\n",
      "0    1\n",
      "Name: Anomaly, dtype: int32\n",
      "0    1\n",
      "Name: Anomaly, dtype: int32\n",
      "0    1\n",
      "Name: Anomaly, dtype: int32\n",
      "0    1\n",
      "Name: Anomaly, dtype: int32\n",
      "0    0\n",
      "Name: Anomaly, dtype: int32\n",
      "0    0\n",
      "Name: Anomaly, dtype: int32\n",
      "0    0\n",
      "Name: Anomaly, dtype: int32\n",
      "0    0\n",
      "Name: Anomaly, dtype: int32\n",
      "0    0\n",
      "Name: Anomaly, dtype: int32\n",
      "0    0\n",
      "Name: Anomaly, dtype: int32\n",
      "0    0\n",
      "Name: Anomaly, dtype: int32\n"
     ]
    },
    {
     "ename": "KeyboardInterrupt",
     "evalue": "",
     "output_type": "error",
     "traceback": [
      "\u001b[1;31m---------------------------------------------------------------------------\u001b[0m",
      "\u001b[1;31mKeyboardInterrupt\u001b[0m                         Traceback (most recent call last)",
      "Cell \u001b[1;32mIn[6], line 8\u001b[0m\n\u001b[0;32m      6\u001b[0m predict \u001b[39m=\u001b[39m predict_model(loaded_model, data\u001b[39m=\u001b[39mdata)\n\u001b[0;32m      7\u001b[0m \u001b[39mprint\u001b[39m(predict\u001b[39m.\u001b[39miloc[:,\u001b[39m-\u001b[39m\u001b[39m2\u001b[39m])\n\u001b[1;32m----> 8\u001b[0m time\u001b[39m.\u001b[39;49msleep(\u001b[39m1\u001b[39;49m)\n",
      "\u001b[1;31mKeyboardInterrupt\u001b[0m: "
     ]
    }
   ],
   "source": [
    "while True:\n",
    "    data_add = pd.read_csv('test_2.csv').tail(1) #data cần đánh giá (Tạm thời là dòng cuối file test_2) -> append vào file data, write vào file xử lý\n",
    "    data_add.to_csv('data_add.csv') #write vào file xử lý\n",
    "    data = pd.read_csv('data_add.csv') #đọc data ra\n",
    "    predict = predict_model(loaded_model, data=data)\n",
    "    print(predict.iloc[:,-2])\n",
    "    time.sleep(1)\n",
    "    \n",
    "    "
   ]
  },
  {
   "cell_type": "code",
   "execution_count": null,
   "metadata": {},
   "outputs": [],
   "source": [
    "# while data.empty != True:\n",
    "#     data= pd.read_csv('data_add.csv')\n",
    "#     predict = predict_model(loaded_model, data=data.tail(1))\n",
    "#     # predict\n",
    "#     print(predict.iloc[:,-2])\n",
    "#     time.sleep(1)"
   ]
  }
 ],
 "metadata": {
  "kernelspec": {
   "display_name": "Python 3",
   "language": "python",
   "name": "python3"
  },
  "language_info": {
   "codemirror_mode": {
    "name": "ipython",
    "version": 3
   },
   "file_extension": ".py",
   "mimetype": "text/x-python",
   "name": "python",
   "nbconvert_exporter": "python",
   "pygments_lexer": "ipython3",
   "version": "3.10.11"
  },
  "orig_nbformat": 4
 },
 "nbformat": 4,
 "nbformat_minor": 2
}
